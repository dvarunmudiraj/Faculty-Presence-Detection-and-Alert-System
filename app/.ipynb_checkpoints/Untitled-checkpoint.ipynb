{
 "cells": [
  {
   "cell_type": "code",
   "execution_count": null,
   "id": "911a2a6e-6c67-4938-ad5c-e138e14035c7",
   "metadata": {},
   "outputs": [],
   "source": [
    "import cv2\n",
    "import time\n",
    "from app.notification import send_alert\n",
    "\n",
    "def monitor_presence():\n",
    "    face_cascade = cv2.CascadeClassifier('haarcascades/haarcascade_frontalface_default.xml')\n",
    "    cap = cv2.VideoCapture(0)\n",
    "    faculty_present = True\n",
    "    last_seen = time.time()\n",
    "    alert_threshold = 30  # Alert if absent for 30 seconds\n",
    "\n",
    "    while True:\n",
    "        ret, frame = cap.read()\n",
    "        if not ret:\n",
    "            break\n",
    "        \n",
    "        gray = cv2.cvtColor(frame, cv2.COLOR_BGR2GRAY)\n",
    "        faces = face_cascade.detectMultiScale(gray, 1.3, 5)\n",
    "\n",
    "        if len(faces) > 0:\n",
    "            faculty_present = True\n",
    "            last_seen = time.time()\n",
    "        else:\n",
    "            faculty_present = False\n",
    "\n",
    "        if not faculty_present and time.time() - last_seen > alert_threshold:\n",
    "            print(\"Faculty absent! Sending alert...\")\n",
    "            send_alert()\n",
    "\n",
    "        cv2.imshow('Faculty Presence Monitoring', frame)\n",
    "        if cv2.waitKey(1) & 0xFF == ord('q'):  # Press 'q' to quit\n",
    "            break\n",
    "\n",
    "    cap.release()\n",
    "    cv2.destroyAllWindows()\n"
   ]
  }
 ],
 "metadata": {
  "kernelspec": {
   "display_name": "Python 3 (ipykernel)",
   "language": "python",
   "name": "python3"
  },
  "language_info": {
   "codemirror_mode": {
    "name": "ipython",
    "version": 3
   },
   "file_extension": ".py",
   "mimetype": "text/x-python",
   "name": "python",
   "nbconvert_exporter": "python",
   "pygments_lexer": "ipython3",
   "version": "3.12.7"
  }
 },
 "nbformat": 4,
 "nbformat_minor": 5
}
